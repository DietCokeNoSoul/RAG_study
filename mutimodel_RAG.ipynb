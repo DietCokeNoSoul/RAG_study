{
 "cells": [
  {
   "cell_type": "markdown",
   "id": "476f76ec",
   "metadata": {},
   "source": [
    "## 辅助变量"
   ]
  },
  {
   "cell_type": "code",
   "execution_count": 3,
   "id": "2bcde16b",
   "metadata": {},
   "outputs": [],
   "source": [
    "import os\n",
    "pdf_path = r\"Paper\" # 存放pdf的文件夹\n",
    "image_path = r\"Images\" # 存放图片的文件夹\n",
    "api_key = os.environ.get(\"QWEN_API_KEY\")"
   ]
  },
  {
   "cell_type": "markdown",
   "id": "52eeb5d1",
   "metadata": {},
   "source": [
    "## 大语言模型"
   ]
  },
  {
   "cell_type": "code",
   "execution_count": 4,
   "id": "e438515c",
   "metadata": {},
   "outputs": [],
   "source": [
    "from openai import OpenAI\n",
    "client = OpenAI(\n",
    "    api_key=api_key,\n",
    "    base_url=\"https://dashscope.aliyuncs.com/compatible-mode/v1\"\n",
    ")"
   ]
  },
  {
   "cell_type": "markdown",
   "id": "c25a57b7",
   "metadata": {},
   "source": [
    "## 辅助函数"
   ]
  },
  {
   "cell_type": "code",
   "execution_count": 5,
   "id": "85aa8b48",
   "metadata": {},
   "outputs": [],
   "source": [
    "import base64\n",
    "'''\n",
    "API调用准备：许多AI模型的API（如OpenAI GPT-4V、Qwen等）需要图像以Base64编码格式传输\n",
    "数据传输：Base64编码可以将二进制图像数据转换为文本格式，便于在JSON等文本协议中传输\n",
    "存储和处理：编码后的图像可以更容易地存储在数据库中或与文本数据一起处理\n",
    "\n",
    "打开图像文件并将其编码为Base64字符串，rb表示以二进制读模式打开文件\n",
    "'''\n",
    "def encode_image(image_path):\n",
    "    with open(image_path, \"rb\") as image_file:\n",
    "        return base64.b64encode(image_file.read()).decode('utf-8')"
   ]
  },
  {
   "cell_type": "code",
   "execution_count": 6,
   "id": "08ed6d7c",
   "metadata": {},
   "outputs": [],
   "source": [
    "'''\n",
    "可视化调试：将处理过的图像显示出来，便于查看和验证\n",
    "结果展示：在RAG系统中展示检索到的图像内容\n",
    "数据预览：在处理图像数据时预览图像内容\n",
    "\n",
    "根据Base64字符串生成HTML标签并显示图像\n",
    "'''\n",
    "from IPython.display import display, HTML\n",
    "def plt_img_base64(img_64):\n",
    "    img_html = f'<img src=\"data:image/jpeg;base64,{img_64}\" style=\"max-width: 500px;\"/>'\n",
    "    display(HTML(img_html))"
   ]
  },
  {
   "cell_type": "markdown",
   "id": "864197d1",
   "metadata": {},
   "source": [
    "## pdf分割"
   ]
  },
  {
   "cell_type": "code",
   "execution_count": 5,
   "id": "24467454",
   "metadata": {},
   "outputs": [
    {
     "ename": "KeyboardInterrupt",
     "evalue": "",
     "output_type": "error",
     "traceback": [
      "\u001b[1;31m---------------------------------------------------------------------------\u001b[0m",
      "\u001b[1;31mKeyboardInterrupt\u001b[0m                         Traceback (most recent call last)",
      "Cell \u001b[1;32mIn[5], line 9\u001b[0m\n\u001b[0;32m      1\u001b[0m \u001b[38;5;124;03m'''\u001b[39;00m\n\u001b[0;32m      2\u001b[0m \u001b[38;5;124;03m分割工具：PP-StructureV3\u001b[39;00m\n\u001b[0;32m      3\u001b[0m \u001b[38;5;124;03m输入：PDF文件\u001b[39;00m\n\u001b[0;32m      4\u001b[0m \u001b[38;5;124;03m输出：排版好的Markdown文本，包含文内容、图片图表引用、公式\u001b[39;00m\n\u001b[0;32m      5\u001b[0m \u001b[38;5;124;03m图片图表路径：Output/imgs\u001b[39;00m\n\u001b[0;32m      6\u001b[0m \u001b[38;5;124;03m'''\u001b[39;00m\n\u001b[0;32m      8\u001b[0m \u001b[38;5;28;01mfrom\u001b[39;00m \u001b[38;5;21;01mpathlib\u001b[39;00m \u001b[38;5;28;01mimport\u001b[39;00m Path\n\u001b[1;32m----> 9\u001b[0m \u001b[38;5;28;01mfrom\u001b[39;00m \u001b[38;5;21;01mpaddleocr\u001b[39;00m \u001b[38;5;28;01mimport\u001b[39;00m PPStructureV3\n\u001b[0;32m     10\u001b[0m \u001b[38;5;28;01mimport\u001b[39;00m \u001b[38;5;21;01mtime\u001b[39;00m\n\u001b[0;32m     12\u001b[0m input_file \u001b[38;5;241m=\u001b[39m \u001b[38;5;124m\"\u001b[39m\u001b[38;5;124mPaper/论文标注-5.pdf\u001b[39m\u001b[38;5;124m\"\u001b[39m\n",
      "File \u001b[1;32md:\\app\\anaconda3\\envs\\use-pytorch\\Lib\\site-packages\\paddleocr\\__init__.py:15\u001b[0m\n\u001b[0;32m      1\u001b[0m \u001b[38;5;66;03m# Copyright (c) 2025 PaddlePaddle Authors. All Rights Reserved.\u001b[39;00m\n\u001b[0;32m      2\u001b[0m \u001b[38;5;66;03m#\u001b[39;00m\n\u001b[0;32m      3\u001b[0m \u001b[38;5;66;03m# Licensed under the Apache License, Version 2.0 (the \"License\");\u001b[39;00m\n\u001b[1;32m   (...)\u001b[0m\n\u001b[0;32m     12\u001b[0m \u001b[38;5;66;03m# See the License for the specific language governing permissions and\u001b[39;00m\n\u001b[0;32m     13\u001b[0m \u001b[38;5;66;03m# limitations under the License.\u001b[39;00m\n\u001b[1;32m---> 15\u001b[0m \u001b[38;5;28;01mfrom\u001b[39;00m \u001b[38;5;21;01mpaddlex\u001b[39;00m\u001b[38;5;21;01m.\u001b[39;00m\u001b[38;5;21;01minference\u001b[39;00m\u001b[38;5;21;01m.\u001b[39;00m\u001b[38;5;21;01mutils\u001b[39;00m\u001b[38;5;21;01m.\u001b[39;00m\u001b[38;5;21;01mbenchmark\u001b[39;00m \u001b[38;5;28;01mimport\u001b[39;00m benchmark\n\u001b[0;32m     17\u001b[0m \u001b[38;5;28;01mfrom\u001b[39;00m \u001b[38;5;21;01m.\u001b[39;00m\u001b[38;5;21;01m_models\u001b[39;00m \u001b[38;5;28;01mimport\u001b[39;00m (\n\u001b[0;32m     18\u001b[0m     ChartParsing,\n\u001b[0;32m     19\u001b[0m     DocImgOrientationClassification,\n\u001b[1;32m   (...)\u001b[0m\n\u001b[0;32m     30\u001b[0m     TextRecognition,\n\u001b[0;32m     31\u001b[0m )\n\u001b[0;32m     32\u001b[0m \u001b[38;5;28;01mfrom\u001b[39;00m \u001b[38;5;21;01m.\u001b[39;00m\u001b[38;5;21;01m_pipelines\u001b[39;00m \u001b[38;5;28;01mimport\u001b[39;00m (\n\u001b[0;32m     33\u001b[0m     DocPreprocessor,\n\u001b[0;32m     34\u001b[0m     DocUnderstanding,\n\u001b[1;32m   (...)\u001b[0m\n\u001b[0;32m     41\u001b[0m     TableRecognitionPipelineV2,\n\u001b[0;32m     42\u001b[0m )\n",
      "File \u001b[1;32md:\\app\\anaconda3\\envs\\use-pytorch\\Lib\\site-packages\\paddlex\\__init__.py:49\u001b[0m\n\u001b[0;32m     44\u001b[0m \u001b[38;5;28;01mfrom\u001b[39;00m \u001b[38;5;21;01m.\u001b[39;00m \u001b[38;5;28;01mimport\u001b[39;00m version\n\u001b[0;32m     46\u001b[0m __version__ \u001b[38;5;241m=\u001b[39m version\u001b[38;5;241m.\u001b[39mget_pdx_version()\n\u001b[1;32m---> 49\u001b[0m \u001b[38;5;28;01mfrom\u001b[39;00m \u001b[38;5;21;01m.\u001b[39;00m\u001b[38;5;21;01minference\u001b[39;00m \u001b[38;5;28;01mimport\u001b[39;00m create_pipeline, create_predictor\n\u001b[0;32m     50\u001b[0m \u001b[38;5;28;01mfrom\u001b[39;00m \u001b[38;5;21;01m.\u001b[39;00m\u001b[38;5;21;01mmodel\u001b[39;00m \u001b[38;5;28;01mimport\u001b[39;00m create_model\n\u001b[0;32m     51\u001b[0m \u001b[38;5;28;01mfrom\u001b[39;00m \u001b[38;5;21;01m.\u001b[39;00m\u001b[38;5;21;01mmodules\u001b[39;00m \u001b[38;5;28;01mimport\u001b[39;00m build_dataset_checker, build_evaluator, build_trainer\n",
      "File \u001b[1;32md:\\app\\anaconda3\\envs\\use-pytorch\\Lib\\site-packages\\paddlex\\inference\\__init__.py:16\u001b[0m\n\u001b[0;32m      1\u001b[0m \u001b[38;5;66;03m# Copyright (c) 2024 PaddlePaddle Authors. All Rights Reserved.\u001b[39;00m\n\u001b[0;32m      2\u001b[0m \u001b[38;5;66;03m#\u001b[39;00m\n\u001b[0;32m      3\u001b[0m \u001b[38;5;66;03m# Licensed under the Apache License, Version 2.0 (the \"License\");\u001b[39;00m\n\u001b[1;32m   (...)\u001b[0m\n\u001b[0;32m     12\u001b[0m \u001b[38;5;66;03m# See the License for the specific language governing permissions and\u001b[39;00m\n\u001b[0;32m     13\u001b[0m \u001b[38;5;66;03m# limitations under the License.\u001b[39;00m\n\u001b[0;32m     15\u001b[0m \u001b[38;5;28;01mfrom\u001b[39;00m \u001b[38;5;21;01m.\u001b[39;00m\u001b[38;5;21;01m.\u001b[39;00m\u001b[38;5;21;01mutils\u001b[39;00m \u001b[38;5;28;01mimport\u001b[39;00m logging\n\u001b[1;32m---> 16\u001b[0m \u001b[38;5;28;01mfrom\u001b[39;00m \u001b[38;5;21;01m.\u001b[39;00m\u001b[38;5;21;01mmodels\u001b[39;00m \u001b[38;5;28;01mimport\u001b[39;00m create_predictor\n\u001b[0;32m     17\u001b[0m \u001b[38;5;28;01mfrom\u001b[39;00m \u001b[38;5;21;01m.\u001b[39;00m\u001b[38;5;21;01mpipelines\u001b[39;00m \u001b[38;5;28;01mimport\u001b[39;00m create_pipeline, load_pipeline_config\n\u001b[0;32m     18\u001b[0m \u001b[38;5;28;01mfrom\u001b[39;00m \u001b[38;5;21;01m.\u001b[39;00m\u001b[38;5;21;01mutils\u001b[39;00m\u001b[38;5;21;01m.\u001b[39;00m\u001b[38;5;21;01mhpi\u001b[39;00m \u001b[38;5;28;01mimport\u001b[39;00m HPIConfig\n",
      "File \u001b[1;32md:\\app\\anaconda3\\envs\\use-pytorch\\Lib\\site-packages\\paddlex\\inference\\models\\__init__.py:22\u001b[0m\n\u001b[0;32m     20\u001b[0m \u001b[38;5;28;01mfrom\u001b[39;00m \u001b[38;5;21;01m.\u001b[39;00m\u001b[38;5;21;01m.\u001b[39;00m\u001b[38;5;21;01m.\u001b[39;00m\u001b[38;5;21;01mutils\u001b[39;00m \u001b[38;5;28;01mimport\u001b[39;00m errors\n\u001b[0;32m     21\u001b[0m \u001b[38;5;28;01mfrom\u001b[39;00m \u001b[38;5;21;01m.\u001b[39;00m\u001b[38;5;21;01m.\u001b[39;00m\u001b[38;5;21;01mutils\u001b[39;00m\u001b[38;5;21;01m.\u001b[39;00m\u001b[38;5;21;01mhpi\u001b[39;00m \u001b[38;5;28;01mimport\u001b[39;00m HPIConfig\n\u001b[1;32m---> 22\u001b[0m \u001b[38;5;28;01mfrom\u001b[39;00m \u001b[38;5;21;01m.\u001b[39;00m\u001b[38;5;21;01m.\u001b[39;00m\u001b[38;5;21;01mutils\u001b[39;00m\u001b[38;5;21;01m.\u001b[39;00m\u001b[38;5;21;01mofficial_models\u001b[39;00m \u001b[38;5;28;01mimport\u001b[39;00m official_models\n\u001b[0;32m     24\u001b[0m \u001b[38;5;66;03m# from .table_recognition import TablePredictor\u001b[39;00m\n\u001b[0;32m     25\u001b[0m \u001b[38;5;66;03m# from .general_recognition import ShiTuRecPredictor\u001b[39;00m\n\u001b[0;32m     26\u001b[0m \u001b[38;5;28;01mfrom\u001b[39;00m \u001b[38;5;21;01m.\u001b[39;00m\u001b[38;5;21;01manomaly_detection\u001b[39;00m \u001b[38;5;28;01mimport\u001b[39;00m UadPredictor\n",
      "File \u001b[1;32md:\\app\\anaconda3\\envs\\use-pytorch\\Lib\\site-packages\\paddlex\\inference\\utils\\official_models.py:25\u001b[0m\n\u001b[0;32m     21\u001b[0m \u001b[38;5;28;01mimport\u001b[39;00m \u001b[38;5;21;01mhuggingface_hub\u001b[39;00m \u001b[38;5;28;01mas\u001b[39;00m \u001b[38;5;21;01mhf_hub\u001b[39;00m\n\u001b[0;32m     23\u001b[0m hf_hub\u001b[38;5;241m.\u001b[39mlogging\u001b[38;5;241m.\u001b[39mset_verbosity_error()\n\u001b[1;32m---> 25\u001b[0m \u001b[38;5;28;01mimport\u001b[39;00m \u001b[38;5;21;01mmodelscope\u001b[39;00m\n\u001b[0;32m     26\u001b[0m \u001b[38;5;28;01mimport\u001b[39;00m \u001b[38;5;21;01mrequests\u001b[39;00m\n\u001b[0;32m     28\u001b[0m os\u001b[38;5;241m.\u001b[39menviron[\u001b[38;5;124m\"\u001b[39m\u001b[38;5;124mAISTUDIO_LOG\u001b[39m\u001b[38;5;124m\"\u001b[39m] \u001b[38;5;241m=\u001b[39m \u001b[38;5;124m\"\u001b[39m\u001b[38;5;124mcritical\u001b[39m\u001b[38;5;124m\"\u001b[39m\n",
      "File \u001b[1;32md:\\app\\anaconda3\\envs\\use-pytorch\\Lib\\site-packages\\modelscope\\__init__.py:5\u001b[0m\n\u001b[0;32m      2\u001b[0m \u001b[38;5;28;01mimport\u001b[39;00m \u001b[38;5;21;01mimportlib\u001b[39;00m\n\u001b[0;32m      3\u001b[0m \u001b[38;5;28;01mfrom\u001b[39;00m \u001b[38;5;21;01mtyping\u001b[39;00m \u001b[38;5;28;01mimport\u001b[39;00m TYPE_CHECKING\n\u001b[1;32m----> 5\u001b[0m \u001b[38;5;28;01mfrom\u001b[39;00m \u001b[38;5;21;01mmodelscope\u001b[39;00m\u001b[38;5;21;01m.\u001b[39;00m\u001b[38;5;21;01mutils\u001b[39;00m\u001b[38;5;21;01m.\u001b[39;00m\u001b[38;5;21;01mimport_utils\u001b[39;00m \u001b[38;5;28;01mimport\u001b[39;00m (LazyImportModule,\n\u001b[0;32m      6\u001b[0m                                            is_transformers_available)\n\u001b[0;32m      8\u001b[0m \u001b[38;5;28;01mif\u001b[39;00m TYPE_CHECKING:\n\u001b[0;32m      9\u001b[0m     \u001b[38;5;28;01mfrom\u001b[39;00m \u001b[38;5;21;01m.\u001b[39;00m\u001b[38;5;21;01mexporters\u001b[39;00m \u001b[38;5;28;01mimport\u001b[39;00m Exporter, TfModelExporter, TorchModelExporter\n",
      "File \u001b[1;32md:\\app\\anaconda3\\envs\\use-pytorch\\Lib\\site-packages\\modelscope\\utils\\import_utils.py:18\u001b[0m\n\u001b[0;32m     15\u001b[0m \u001b[38;5;28;01mfrom\u001b[39;00m \u001b[38;5;21;01mtypes\u001b[39;00m \u001b[38;5;28;01mimport\u001b[39;00m ModuleType\n\u001b[0;32m     16\u001b[0m \u001b[38;5;28;01mfrom\u001b[39;00m \u001b[38;5;21;01mtyping\u001b[39;00m \u001b[38;5;28;01mimport\u001b[39;00m Any\n\u001b[1;32m---> 18\u001b[0m \u001b[38;5;28;01mfrom\u001b[39;00m \u001b[38;5;21;01mmodelscope\u001b[39;00m\u001b[38;5;21;01m.\u001b[39;00m\u001b[38;5;21;01mutils\u001b[39;00m\u001b[38;5;21;01m.\u001b[39;00m\u001b[38;5;21;01mast_utils\u001b[39;00m \u001b[38;5;28;01mimport\u001b[39;00m (INDEX_KEY, MODULE_KEY, REQUIREMENT_KEY,\n\u001b[0;32m     19\u001b[0m                                         load_index)\n\u001b[0;32m     20\u001b[0m \u001b[38;5;28;01mfrom\u001b[39;00m \u001b[38;5;21;01mmodelscope\u001b[39;00m\u001b[38;5;21;01m.\u001b[39;00m\u001b[38;5;21;01mutils\u001b[39;00m\u001b[38;5;21;01m.\u001b[39;00m\u001b[38;5;21;01merror\u001b[39;00m \u001b[38;5;28;01mimport\u001b[39;00m \u001b[38;5;241m*\u001b[39m  \u001b[38;5;66;03m# noqa\u001b[39;00m\n\u001b[0;32m     21\u001b[0m \u001b[38;5;28;01mfrom\u001b[39;00m \u001b[38;5;21;01mmodelscope\u001b[39;00m\u001b[38;5;21;01m.\u001b[39;00m\u001b[38;5;21;01mutils\u001b[39;00m\u001b[38;5;21;01m.\u001b[39;00m\u001b[38;5;21;01mlogger\u001b[39;00m \u001b[38;5;28;01mimport\u001b[39;00m get_logger\n",
      "File \u001b[1;32md:\\app\\anaconda3\\envs\\use-pytorch\\Lib\\site-packages\\modelscope\\utils\\ast_utils.py:24\u001b[0m\n\u001b[0;32m     22\u001b[0m \u001b[38;5;28;01mfrom\u001b[39;00m \u001b[38;5;21;01mmodelscope\u001b[39;00m\u001b[38;5;21;01m.\u001b[39;00m\u001b[38;5;21;01mutils\u001b[39;00m\u001b[38;5;21;01m.\u001b[39;00m\u001b[38;5;21;01mconstant\u001b[39;00m \u001b[38;5;28;01mimport\u001b[39;00m Fields, Tasks\n\u001b[0;32m     23\u001b[0m \u001b[38;5;28;01mfrom\u001b[39;00m \u001b[38;5;21;01mmodelscope\u001b[39;00m\u001b[38;5;21;01m.\u001b[39;00m\u001b[38;5;21;01mutils\u001b[39;00m\u001b[38;5;21;01m.\u001b[39;00m\u001b[38;5;21;01mfile_utils\u001b[39;00m \u001b[38;5;28;01mimport\u001b[39;00m get_modelscope_cache_dir\n\u001b[1;32m---> 24\u001b[0m \u001b[38;5;28;01mfrom\u001b[39;00m \u001b[38;5;21;01mmodelscope\u001b[39;00m\u001b[38;5;21;01m.\u001b[39;00m\u001b[38;5;21;01mutils\u001b[39;00m\u001b[38;5;21;01m.\u001b[39;00m\u001b[38;5;21;01mregistry\u001b[39;00m \u001b[38;5;28;01mimport\u001b[39;00m default_group\n\u001b[0;32m     26\u001b[0m p \u001b[38;5;241m=\u001b[39m Path(\u001b[38;5;18m__file__\u001b[39m)\n\u001b[0;32m     28\u001b[0m \u001b[38;5;66;03m# get the path of package 'modelscope'\u001b[39;00m\n",
      "File \u001b[1;32md:\\app\\anaconda3\\envs\\use-pytorch\\Lib\\site-packages\\modelscope\\utils\\registry.py:11\u001b[0m\n\u001b[0;32m      9\u001b[0m TYPE_NAME \u001b[38;5;241m=\u001b[39m \u001b[38;5;124m'\u001b[39m\u001b[38;5;124mtype\u001b[39m\u001b[38;5;124m'\u001b[39m\n\u001b[0;32m     10\u001b[0m default_group \u001b[38;5;241m=\u001b[39m \u001b[38;5;124m'\u001b[39m\u001b[38;5;124mdefault\u001b[39m\u001b[38;5;124m'\u001b[39m\n\u001b[1;32m---> 11\u001b[0m logger \u001b[38;5;241m=\u001b[39m get_logger()\n\u001b[0;32m     14\u001b[0m \u001b[38;5;28;01mclass\u001b[39;00m \u001b[38;5;21;01mRegistry\u001b[39;00m(\u001b[38;5;28mobject\u001b[39m):\n\u001b[0;32m     15\u001b[0m \u001b[38;5;250m    \u001b[39m\u001b[38;5;124;03m\"\"\" Registry which support registering modules and group them by a keyname\u001b[39;00m\n\u001b[0;32m     16\u001b[0m \n\u001b[0;32m     17\u001b[0m \u001b[38;5;124;03m    If group name is not provided, modules will be registered to default group.\u001b[39;00m\n\u001b[0;32m     18\u001b[0m \u001b[38;5;124;03m    \"\"\"\u001b[39;00m\n",
      "File \u001b[1;32md:\\app\\anaconda3\\envs\\use-pytorch\\Lib\\site-packages\\modelscope\\utils\\logger.py:49\u001b[0m, in \u001b[0;36mget_logger\u001b[1;34m(log_file, log_level, file_mode)\u001b[0m\n\u001b[0;32m     47\u001b[0m is_worker0 \u001b[38;5;241m=\u001b[39m \u001b[38;5;28;01mTrue\u001b[39;00m\n\u001b[0;32m     48\u001b[0m \u001b[38;5;28;01mif\u001b[39;00m iutil\u001b[38;5;241m.\u001b[39mfind_spec(\u001b[38;5;124m'\u001b[39m\u001b[38;5;124mtorch\u001b[39m\u001b[38;5;124m'\u001b[39m) \u001b[38;5;129;01mis\u001b[39;00m \u001b[38;5;129;01mnot\u001b[39;00m \u001b[38;5;28;01mNone\u001b[39;00m:\n\u001b[1;32m---> 49\u001b[0m     \u001b[38;5;28;01mfrom\u001b[39;00m \u001b[38;5;21;01mmodelscope\u001b[39;00m\u001b[38;5;21;01m.\u001b[39;00m\u001b[38;5;21;01mutils\u001b[39;00m\u001b[38;5;21;01m.\u001b[39;00m\u001b[38;5;21;01mtorch_utils\u001b[39;00m \u001b[38;5;28;01mimport\u001b[39;00m is_dist, is_master\n\u001b[0;32m     50\u001b[0m     torch_dist \u001b[38;5;241m=\u001b[39m is_dist()\n\u001b[0;32m     51\u001b[0m     is_worker0 \u001b[38;5;241m=\u001b[39m is_master()\n",
      "File \u001b[1;32md:\\app\\anaconda3\\envs\\use-pytorch\\Lib\\site-packages\\modelscope\\utils\\torch_utils.py:13\u001b[0m\n\u001b[0;32m     10\u001b[0m \u001b[38;5;28;01mfrom\u001b[39;00m \u001b[38;5;21;01mtyping\u001b[39;00m \u001b[38;5;28;01mimport\u001b[39;00m Callable, List, Optional, Tuple\n\u001b[0;32m     12\u001b[0m \u001b[38;5;28;01mimport\u001b[39;00m \u001b[38;5;21;01mnumpy\u001b[39;00m \u001b[38;5;28;01mas\u001b[39;00m \u001b[38;5;21;01mnp\u001b[39;00m\n\u001b[1;32m---> 13\u001b[0m \u001b[38;5;28;01mimport\u001b[39;00m \u001b[38;5;21;01mtorch\u001b[39;00m\n\u001b[0;32m     14\u001b[0m \u001b[38;5;28;01mimport\u001b[39;00m \u001b[38;5;21;01mtorch\u001b[39;00m\u001b[38;5;21;01m.\u001b[39;00m\u001b[38;5;21;01mmultiprocessing\u001b[39;00m \u001b[38;5;28;01mas\u001b[39;00m \u001b[38;5;21;01mmp\u001b[39;00m\n\u001b[0;32m     15\u001b[0m \u001b[38;5;28;01mfrom\u001b[39;00m \u001b[38;5;21;01mpackaging\u001b[39;00m \u001b[38;5;28;01mimport\u001b[39;00m version\n",
      "File \u001b[1;32md:\\app\\anaconda3\\envs\\use-pytorch\\Lib\\site-packages\\torch\\__init__.py:132\u001b[0m\n\u001b[0;32m    130\u001b[0m is_loaded \u001b[38;5;241m=\u001b[39m \u001b[38;5;28;01mFalse\u001b[39;00m\n\u001b[0;32m    131\u001b[0m \u001b[38;5;28;01mif\u001b[39;00m with_load_library_flags:\n\u001b[1;32m--> 132\u001b[0m     res \u001b[38;5;241m=\u001b[39m kernel32\u001b[38;5;241m.\u001b[39mLoadLibraryExW(dll, \u001b[38;5;28;01mNone\u001b[39;00m, \u001b[38;5;241m0x00001100\u001b[39m)\n\u001b[0;32m    133\u001b[0m     last_error \u001b[38;5;241m=\u001b[39m ctypes\u001b[38;5;241m.\u001b[39mget_last_error()\n\u001b[0;32m    134\u001b[0m     \u001b[38;5;28;01mif\u001b[39;00m res \u001b[38;5;129;01mis\u001b[39;00m \u001b[38;5;28;01mNone\u001b[39;00m \u001b[38;5;129;01mand\u001b[39;00m last_error \u001b[38;5;241m!=\u001b[39m \u001b[38;5;241m126\u001b[39m:\n",
      "\u001b[1;31mKeyboardInterrupt\u001b[0m: "
     ]
    }
   ],
   "source": [
    "'''\n",
    "分割工具：PP-StructureV3\n",
    "输入：PDF文件\n",
    "输出：排版好的Markdown文本，包含文内容、图片图表引用、公式\n",
    "图片图表路径：Output/imgs\n",
    "'''\n",
    "\n",
    "from pathlib import Path\n",
    "from paddleocr import PPStructureV3\n",
    "import time\n",
    "\n",
    "input_file = \"Paper/论文标注-5.pdf\"\n",
    "output_path = Path(\"Output\")\n",
    "\n",
    "start_time = time.time()\n",
    "\n",
    "pipeline = PPStructureV3(\n",
    "    text_recognition_model_name = \"en_PP-OCRv4_mobile_rec\", # 选择英文模型\n",
    "    formula_recognition_model_name= \"PP-FormulaNet_plus-S\", # 选择公式识别模型\n",
    ")\n",
    "\n",
    "load_time = time.time() - start_time\n",
    "print(\"模型加载时间: {:.2f} 秒\".format(load_time))\n",
    "\n",
    "output = pipeline.predict(input=input_file)\n",
    "\n",
    "predict_time = time.time() - start_time - load_time\n",
    "print(\"预测时间: {:.2f} 秒\".format(predict_time))\n",
    "\n",
    "markdown_list = []\n",
    "markdown_images = []\n",
    "\n",
    "for res in output:\n",
    "    md_info = res.markdown\n",
    "    markdown_list.append(md_info)\n",
    "    markdown_images.append(md_info.get(\"markdown_images\", {}))\n",
    "\n",
    "markdown_texts = pipeline.concatenate_markdown_pages(markdown_list)\n",
    "\n",
    "mkd_file_path = output_path / f\"{Path(input_file).stem}.md\"\n",
    "mkd_file_path.parent.mkdir(parents=True, exist_ok=True)\n",
    "\n",
    "with open(mkd_file_path, \"w\", encoding=\"utf-8\") as f:\n",
    "    f.write(markdown_texts)\n",
    "\n",
    "for item in markdown_images:\n",
    "    if item:\n",
    "        for path, image in item.items():\n",
    "            # 跳过文件名包含\"formula\"的图片\n",
    "            if \"formula\" in path.lower():\n",
    "                continue\n",
    "            \n",
    "            file_path = output_path / path\n",
    "            file_path.parent.mkdir(parents=True, exist_ok=True)\n",
    "            image.save(file_path)\n",
    "            print(f\"保存图片: {path}\")\n",
    "            "
   ]
  },
  {
   "cell_type": "markdown",
   "id": "370a0198",
   "metadata": {},
   "source": [
    "## 图像总结"
   ]
  },
  {
   "cell_type": "code",
   "execution_count": 23,
   "id": "d3dc491a",
   "metadata": {},
   "outputs": [
    {
     "data": {
      "text/html": [
       "<img src=\"data:image/jpeg;base64,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\" style=\"max-width: 500px;\"/>"
      ],
      "text/plain": [
       "<IPython.core.display.HTML object>"
      ]
     },
     "metadata": {},
     "output_type": "display_data"
    }
   ],
   "source": [
    "local_path = \"C:\\\\Users\\\\71949\\\\Desktop\\\\Python Code\\\\Output\\\\imgs\\\\img_in_image_box_98_106_599_438.jpg\"\n",
    "base64_image = encode_image(local_path)\n",
    "plt_img_base64(base64_image)\n",
    "\n",
    "response = client.chat.completions.create(\n",
    "    model=\"qwen-vl-max-latest\",\n",
    "    messages=[\n",
    "    \t{\n",
    "    \t    \"role\": \"system\",\n",
    "            \"content\": [{\"type\":\"text\",\"text\": \"You are a helpful assistant.\"}]},\n",
    "        {\n",
    "            \"role\": \"user\",\n",
    "            \"content\": [\n",
    "                {\n",
    "                    \"type\": \"image_url\",\n",
    "                    # 需要注意，传入Base64，图像格式（即image/{format}）需要与支持的图片列表中的Content Type保持一致。\"f\"是字符串格式化的方法。\n",
    "                    # PNG图像：  f\"data:image/png;base64,{base64_image}\"\n",
    "                    # JPEG图像： f\"data:image/jpeg;base64,{base64_image}\"\n",
    "                    # WEBP图像： f\"data:image/webp;base64,{base64_image}\"\n",
    "                    \"image_url\": {\"url\": f\"data:image/jpeg;base64,{base64_image}\"}, \n",
    "                },\n",
    "                {\"type\": \"text\", \"text\": \"用英文回答图中描绘的是什么?\"},\n",
    "            ],\n",
    "        }\n",
    "    ],\n",
    ")\n",
    "\n",
    "img_description = response.choices[0].message.content"
   ]
  },
  {
   "cell_type": "markdown",
   "id": "7c4f5c8d",
   "metadata": {},
   "source": [
    "## 切块"
   ]
  },
  {
   "cell_type": "code",
   "execution_count": 6,
   "id": "8be60c6c",
   "metadata": {},
   "outputs": [],
   "source": [
    "import re # 用于正则表达式处理，匹配文字\n",
    "\n",
    "def has_formula(text):\n",
    "    \"\"\"检测文本是否包含LaTeX公式\"\"\"\n",
    "    formula_patterns = [\n",
    "        r'\\$\\$.*?\\$\\$',  # 块级公式\n",
    "        r'\\$.*?\\$',      # 行内公式\n",
    "    ]\n",
    "    for pattern in formula_patterns:\n",
    "        if re.search(pattern, text, re.DOTALL): # re.DOTALL 使 . 能匹配换行符，匹配多行公式\n",
    "            return True\n",
    "    return False"
   ]
  },
  {
   "cell_type": "code",
   "execution_count": 7,
   "id": "16113151",
   "metadata": {},
   "outputs": [],
   "source": [
    "def split_with_formula_protection(text, max_chunk_size, chunk_overlap=0):\n",
    "    \"\"\"\n",
    "    分割文本时保护公式完整性\n",
    "    \"\"\"\n",
    "    # 找到所有公式的位置\n",
    "    formula_pattern = r'(\\$\\$.*?\\$\\$|\\$.*?\\$)'\n",
    "    parts = re.split(formula_pattern, text, flags=re.DOTALL) # 将公式都单独摘出来\n",
    "    \n",
    "    chunks = []\n",
    "    current_chunk = \"\" # 当前块内容\n",
    "    \n",
    "    for part in parts:\n",
    "        if re.match(formula_pattern, part, re.DOTALL): # 匹配得知这是一个公式\n",
    "            if len(current_chunk + part) > max_chunk_size and current_chunk: # 当前块太大，先输出当前块\n",
    "                # 输出当前块\n",
    "                chunks.append(current_chunk.strip()) # strip()可以去除首尾多余的空白，比如说\"这是一个公式 $x=y$\"切割后得到\"这是一个公式 \"，多出一个空格\n",
    "                # 简单overlap: 取前一块末尾部分\n",
    "                overlap_text = chunks[-1][-chunk_overlap:] if chunk_overlap > 0 and chunks else \"\"\n",
    "                current_chunk = overlap_text + part # 新块以overlap+公式开头\n",
    "            else:\n",
    "                current_chunk += part # 长度没有超过chunk_size，公式直接添加到当前块\n",
    "        else:\n",
    "            # 普通文本，可以进一步分割\n",
    "            if len(current_chunk + part) > max_chunk_size:\n",
    "                # 需要分割\n",
    "                if current_chunk: # 当前块不为空，防止是单独part过大\n",
    "                    # 输出当前块\n",
    "                    chunks.append(current_chunk.strip())\n",
    "                    # 简单overlap: 取前一块末尾部分\n",
    "                    overlap_text = chunks[-1][-chunk_overlap:] if chunk_overlap > 0 else \"\"\n",
    "                    current_chunk = overlap_text # 重置当前块\n",
    "                \n",
    "                # 分割普通文本\n",
    "                words = part.split() # 按空格分词\n",
    "                for word in words: # 逐词添加，防止单词被切断\n",
    "                    if len(current_chunk + word + \" \") > max_chunk_size and current_chunk:\n",
    "                        chunks.append(current_chunk.strip()) # 输出当前块\n",
    "                        # 简单overlap: 取前一块末尾部分\n",
    "                        overlap_text = chunks[-1][-chunk_overlap:] if chunk_overlap > 0 else \"\"\n",
    "                        current_chunk = overlap_text + word + \" \" # 新块以overlap+当前词开头\n",
    "                    else: # 长度没有超过chunk_size，词直接添加到当前块\n",
    "                        current_chunk += word + \" \" # 注意加空格\n",
    "            else: # 长度没有超过chunk_size，普通文本直接添加到当前块\n",
    "                current_chunk += part # 注意这里不加空格，因为part本身可能包含空格\n",
    "    \n",
    "    if current_chunk.strip(): # 最后一个块不为空\n",
    "        chunks.append(current_chunk.strip()) # strip()去除首尾空白\n",
    "    \n",
    "    return chunks"
   ]
  },
  {
   "cell_type": "code",
   "execution_count": 8,
   "id": "c20d9bc6",
   "metadata": {},
   "outputs": [],
   "source": [
    "'''\n",
    "1. LangChain MarkdownHeaderTextSplitter + RecursiveCharacterTextSplitter\n",
    "   - 优点：按标题层级分割，保持语义完整性\n",
    "   - 适合：学术论文的章节结构\n",
    "\n",
    "2. 自定义公式感知分割器\n",
    "   - 保护LaTeX公式完整性\n",
    "   - 识别并保持图片引用与说明文字的关联\n",
    "\n",
    "元数据设计：\n",
    "每个chunk应包含：\n",
    "- 章节信息：所属章节标题  \n",
    "- 公式编号：如果包含公式\n",
    "- 图片路径：如果引用图片\n",
    "'''\n",
    "\n",
    "from langchain.text_splitter import MarkdownHeaderTextSplitter, RecursiveCharacterTextSplitter\n",
    "\n",
    "def markdown_semantic_splitter(markdown_text, chunk_size=800, chunk_overlap=100):\n",
    "    \"\"\"\n",
    "    智能markdown分割器，保护公式和图片引用\n",
    "    \"\"\"\n",
    "    \n",
    "    # 1. 按标题层级分割\n",
    "    headers_to_split_on = [\n",
    "        (\"#\", \"Header 1\"),\n",
    "        (\"##\", \"Header 2\"), \n",
    "        (\"###\", \"Header 3\"),\n",
    "        (\"####\", \"Header 4\"),\n",
    "    ]\n",
    "    \n",
    "    markdown_splitter = MarkdownHeaderTextSplitter(\n",
    "        headers_to_split_on=headers_to_split_on,\n",
    "        strip_headers=False\n",
    "    )\n",
    "    \n",
    "    # 2. 初步按标题分割\n",
    "    md_header_splits = markdown_splitter.split_text(markdown_text)\n",
    "    \n",
    "    # 3. 进一步细分大块内容，但保护公式\n",
    "    text_splitter = RecursiveCharacterTextSplitter(\n",
    "        chunk_size=chunk_size,\n",
    "        chunk_overlap=chunk_overlap,\n",
    "        separators=[ # 优先使用更大粒度的分隔符，超过chunk_size时再使用更小粒度的分隔符，直到句子分割也超过chunk_size，则强制分割，并且出发overlap\n",
    "            \"\\n\\n\",  # 段落分隔\n",
    "            \". \",    # 句子分隔  \n",
    "        ]\n",
    "    )\n",
    "    \n",
    "    # 保留metadata，如章节信息，检索的时候可以考虑章节关联\n",
    "    \n",
    "    final_chunks = []\n",
    "    for doc in md_header_splits:\n",
    "        # 检查是否包含公式，如果包含则特殊处理\n",
    "        if has_formula(doc.page_content):\n",
    "            # 传递overlap参数给公式保护分割器\n",
    "            formula_chunks = split_with_formula_protection(doc.page_content, chunk_size, chunk_overlap)\n",
    "            for chunk_text in formula_chunks:\n",
    "                final_chunks.append({\n",
    "                    'content': chunk_text,\n",
    "                    'metadata': {\n",
    "                        **doc.metadata,\n",
    "                        'has_formula': True,\n",
    "                    }\n",
    "                })\n",
    "        else:\n",
    "            # 普通文本按常规方式分割\n",
    "            splits = text_splitter.split_text(doc.page_content)\n",
    "            for split_text in splits:\n",
    "                final_chunks.append({\n",
    "                    'content': split_text,\n",
    "                    'metadata': {\n",
    "                        **doc.metadata,\n",
    "                        'has_formula': False,\n",
    "                    }\n",
    "                })\n",
    "    \n",
    "    return final_chunks\n"
   ]
  },
  {
   "cell_type": "code",
   "execution_count": 9,
   "id": "3f43aff7",
   "metadata": {},
   "outputs": [],
   "source": [
    "from langchain.document_loaders import DirectoryLoader, TextLoader\n",
    "\n",
    "def load_document(file_path):\n",
    "    loader = DirectoryLoader(\n",
    "        file_path,\n",
    "        glob=\"**/*.md\",\n",
    "        loader_cls=TextLoader,\n",
    "        loader_kwargs={\"encoding\": \"utf-8\"}\n",
    "    )\n",
    "    \n",
    "    documents = loader.load()\n",
    "    \n",
    "    return documents"
   ]
  },
  {
   "cell_type": "code",
   "execution_count": 10,
   "id": "7ab4f120",
   "metadata": {},
   "outputs": [
    {
     "name": "stdout",
     "output_type": "stream",
     "text": [
      "总共加载了 1 个文档\n",
      "总共分割成 10 个chunk\n"
     ]
    }
   ],
   "source": [
    "documents = load_document(\"Output\")\n",
    "print(f\"总共加载了 {len(documents)} 个文档\")\n",
    "chunks = markdown_semantic_splitter(documents[0].page_content)\n",
    "print(f\"总共分割成 {len(chunks)} 个chunk\")"
   ]
  },
  {
   "cell_type": "markdown",
   "id": "3dadc4ef",
   "metadata": {},
   "source": [
    "## 向量化模型"
   ]
  },
  {
   "cell_type": "code",
   "execution_count": 7,
   "id": "47193ae7",
   "metadata": {},
   "outputs": [
    {
     "name": "stdout",
     "output_type": "stream",
     "text": [
      "首次加载嵌入模型...\n"
     ]
    },
    {
     "name": "stderr",
     "output_type": "stream",
     "text": [
      "C:\\Users\\71949\\AppData\\Local\\Temp\\ipykernel_113460\\1703917666.py:10: LangChainDeprecationWarning: The class `HuggingFaceEmbeddings` was deprecated in LangChain 0.2.2 and will be removed in 1.0. An updated version of the class exists in the :class:`~langchain-huggingface package and should be used instead. To use it run `pip install -U :class:`~langchain-huggingface` and import as `from :class:`~langchain_huggingface import HuggingFaceEmbeddings``.\n",
      "  embedding = HuggingFaceEmbeddings( # 需要开Vpn\n"
     ]
    },
    {
     "name": "stdout",
     "output_type": "stream",
     "text": [
      "✅ 嵌入模型加载完成 (设备: cuda:0)，耗时: 11.18秒\n"
     ]
    }
   ],
   "source": [
    "from langchain.embeddings import HuggingFaceEmbeddings\n",
    "import os\n",
    "import time\n",
    "os.environ[\"TRANSFORMERS_OFFLINE\"] = \"1\" # 离线模式，避免下载模型\n",
    "# 全局模型缓存：只在首次运行时加载模型\n",
    "if 'embedding' not in globals():\n",
    "    print(\"首次加载嵌入模型...\")\n",
    "    model_start = time.time()\n",
    "    \n",
    "    embedding = HuggingFaceEmbeddings( # 需要开Vpn\n",
    "        model_name='Qwen/Qwen3-Embedding-0.6B',\n",
    "        cache_folder='Models',\n",
    "        model_kwargs={'device': 'cuda:0'},\n",
    "        encode_kwargs={'normalize_embeddings': True}\n",
    "    )\n",
    "    print(f\"✅ 嵌入模型加载完成 (设备: cuda:0)，耗时: {time.time() - model_start:.2f}秒\")\n",
    "else:\n",
    "    print(\"使用已缓存的嵌入模型 ✓\")"
   ]
  },
  {
   "cell_type": "code",
   "execution_count": 8,
   "id": "ac1ab844",
   "metadata": {},
   "outputs": [],
   "source": [
    "'''\n",
    "向量存储\n",
    "'''\n",
    "from langchain.document_loaders import markdown\n",
    "from langchain_chroma import Chroma\n",
    "\n",
    "\n",
    "persist_dir = \"./chroma_db\"\n",
    "collection_name = \"pdf_img_rag\"\n",
    "\n",
    "vector_store = Chroma(\n",
    "    collection_name=collection_name,\n",
    "    embedding_function=embedding,\n",
    "    persist_directory=persist_dir\n",
    ")\n",
    "retriever = vector_store.as_retriever(search_kwargs={\"k\": 1})"
   ]
  },
  {
   "cell_type": "markdown",
   "id": "29c412dc",
   "metadata": {},
   "source": [
    "## 数据插入"
   ]
  },
  {
   "cell_type": "code",
   "execution_count": 37,
   "id": "d9ac905a",
   "metadata": {},
   "outputs": [
    {
     "name": "stdout",
     "output_type": "stream",
     "text": [
      "包含embeddings的结果:\n",
      "文档ID: ['doc_0']\n",
      "元数据: [{'has_formula': True}]\n",
      "文档内容长度: 344\n",
      "Embeddings形状: 1024\n"
     ]
    }
   ],
   "source": [
    "# 插入文本\n",
    "vector_store.add_texts(\n",
    "    texts=[chunk['content'] for chunk in chunks],\n",
    "    metadatas=[chunk['metadata'] for chunk in chunks],\n",
    "    ids=[f\"doc_{i}\" for i in range(len(chunks))]\n",
    ")\n",
    "retriever_doc = vector_store.get(ids=[\"doc_0\"], include=['embeddings', 'metadatas', 'documents'])\n",
    "print(retriever_doc)"
   ]
  },
  {
   "cell_type": "code",
   "execution_count": 41,
   "id": "8eff7cbc",
   "metadata": {},
   "outputs": [
    {
     "name": "stdout",
     "output_type": "stream",
     "text": [
      "The figure illustrates a multi-scale neighbor topology embedding approach in a biological network context, specifically focusing on gene regulatory networks involving circRNA, miRNA, and disease interactions.\n",
      "\n",
      "Here's a breakdown of what the figure depicts:\n",
      "\n",
      "1. **Top Part (Two Panels)**:\n",
      "   - **Left Panel**: Shows the neighbor topology embedding at the 1st scale. It includes nodes representing different biological entities such as circRNA (c₁), miRNA (m₁, m₂, m₃), and disease (d₁, d₂). The connections between these nodes represent interactions or relationships.\n",
      "   - **Right Panel**: Depicts the neighbor topology embedding at the 2nd scale. This scale appears to refine or expand upon the first scale, possibly incorporating more detailed or higher-order relationships among the same entities.\n",
      "\n",
      "2. **Bottom Part**:\n",
      "   - **Embedding Process**: A series of vectors labeled θ₂(0), θ₂(1), ..., θ₂(t) represent embeddings at different time steps or scales. These are processed through learnable parameters (denoted by small circles with arrows).\n",
      "   - **Final Output**: The process results in a combined multi-scale neighbor topology embedding denoted as θ₂, which integrates information from multiple scales.\n",
      "\n",
      "In summary, the figure demonstrates how a multi-scale approach is used to embed the topological structure of a neighbor network (involving circRNA, miRNA, and diseases) into a unified vector representation, leveraging learnable parameters to aggregate information across different scales. This method aims to capture complex, hierarchical relationships within the biological network for downstream analysis or prediction tasks.\n",
      "{'ids': ['img_0'], 'embeddings': None, 'metadatas': [{'source': 'C:\\\\Users\\\\71949\\\\Desktop\\\\Python Code\\\\Output\\\\imgs\\\\img_in_image_box_98_106_599_438.jpg'}], 'documents': [\"图片描述: The figure illustrates a multi-scale neighbor topology embedding approach in a biological network context, specifically focusing on gene regulatory networks involving circRNA, miRNA, and disease interactions.\\n\\nHere's a breakdown of what the figure depicts:\\n\\n1. **Top Part (Two Panels)**:\\n   - **Left Panel**: Shows the neighbor topology embedding at the 1st scale. It includes nodes representing different biological entities such as circRNA (c₁), miRNA (m₁, m₂, m₃), and disease (d₁, d₂). The connections between these nodes represent interactions or relationships.\\n   - **Right Panel**: Depicts the neighbor topology embedding at the 2nd scale. This scale appears to refine or expand upon the first scale, possibly incorporating more detailed or higher-order relationships among the same entities.\\n\\n2. **Bottom Part**:\\n   - **Embedding Process**: A series of vectors labeled θ₂(0), θ₂(1), ..., θ₂(t) represent embeddings at different time steps or scales. These are processed through learnable parameters (denoted by small circles with arrows).\\n   - **Final Output**: The process results in a combined multi-scale neighbor topology embedding denoted as θ₂, which integrates information from multiple scales.\\n\\nIn summary, the figure demonstrates how a multi-scale approach is used to embed the topological structure of a neighbor network (involving circRNA, miRNA, and diseases) into a unified vector representation, leveraging learnable parameters to aggregate information across different scales. This method aims to capture complex, hierarchical relationships within the biological network for downstream analysis or prediction tasks.\"]}\n"
     ]
    }
   ],
   "source": [
    "print(img_description)\n",
    "# 插入图片\n",
    "vector_store.add_texts(\n",
    "    texts=[f\"图片描述: {img_description}\"],\n",
    "    metadatas=[{\"source\": local_path}],\n",
    "    ids=[f\"img_{i}\" for i in range(1)]\n",
    ")\n",
    "# 查看该图片的存储情况\n",
    "retrieved_docs = vector_store.get(ids=[\"img_0\"], include=['metadatas', 'documents'])\n",
    "print(retrieved_docs)"
   ]
  },
  {
   "cell_type": "markdown",
   "id": "eb0c5db9",
   "metadata": {},
   "source": [
    "## 检索"
   ]
  },
  {
   "cell_type": "code",
   "execution_count": 9,
   "id": "db30c743",
   "metadata": {},
   "outputs": [],
   "source": [
    "def process_retrieved_docs(question):\n",
    "    relevant_docs = retriever.get_relevant_documents(question)\n",
    "    return relevant_docs"
   ]
  },
  {
   "cell_type": "markdown",
   "id": "fb2c3f8a",
   "metadata": {},
   "source": [
    "## prompt模版"
   ]
  },
  {
   "cell_type": "code",
   "execution_count": 10,
   "id": "66aba2ea",
   "metadata": {},
   "outputs": [],
   "source": [
    "from langchain.prompts import PromptTemplate\n",
    "\n",
    "prompt_img_with_history = PromptTemplate(\n",
    "    input_variables=[\"image\", \"context\", \"question\", \"chat_history\", \"conversation_summary\"],\n",
    "    template=\"\"\"\n",
    "你是一个专业的学术文献分析助手。基于提供的信息回答用户问题。\n",
    "\n",
    "【对话背景】\n",
    "{conversation_summary}\n",
    "\n",
    "【最近对话历史】\n",
    "{chat_history}\n",
    "\n",
    "【当前检索信息】\n",
    "图片/表格描述: {image}\n",
    "文本信息: {context}\n",
    "\n",
    "【用户当前问题】\n",
    "{question}\n",
    "\n",
    "【回答要求】\n",
    "1. 如果用户问题与之前的对话相关，请结合历史上下文回答\n",
    "2. 优先使用当前检索到的信息\n",
    "3. 如果检索信息不足，可以基于对话历史提供补充\n",
    "4. 保持回答的连贯性和准确性\n",
    "5. 使用中文回答，输出为markdown格式\n",
    "\n",
    "请基于以上信息提供详细、准确的回答：\n",
    "\"\"\",\n",
    ")\n",
    "\n",
    "# 简化版prompt，用于没有历史的首次对话\n",
    "prompt_img_init = PromptTemplate(\n",
    "    input_variables=[\"image\", \"context\", \"question\"],\n",
    "    template=\"\"\"\n",
    "你是一个专业的学术文献分析助手。\n",
    "\n",
    "【检索信息】\n",
    "图片/表格描述: {image}\n",
    "文本信息: {context}\n",
    "\n",
    "【用户问题】\n",
    "{question}\n",
    "\n",
    "请基于提供的信息，用中文提供详细、准确的回答，输出为markdown格式：\n",
    "\"\"\",\n",
    ")"
   ]
  },
  {
   "cell_type": "markdown",
   "id": "de6cbc7b",
   "metadata": {},
   "source": [
    "## 对话系统"
   ]
  },
  {
   "cell_type": "code",
   "execution_count": 12,
   "id": "1468c069",
   "metadata": {},
   "outputs": [
    {
     "name": "stdout",
     "output_type": "stream",
     "text": [
      "检索到文本\n",
      "```markdown\n",
      "在提供的文献上下文中，“拓扑”（topology）指的是**网络或图结构中节点之间的连接关系与组织方式**，即节点如何通过边（edges）相互关联所形成的结构模式。\n",
      "\n",
      "具体而言，在图3的描述中提到“自适应构建多尺度邻居拓扑嵌入”（adaptively constructing multi-scale neighbor topology embeddings），这里的“拓扑”特指：\n",
      "\n",
      "1. **节点间的邻接关系**：以节点 $ c_2 $ 为例，其“邻居拓扑”包括直接相连的一阶邻居（1-hop neighbors）、可通过两步到达的二阶邻居（2-hop neighbors），直至 d 阶邻居（d-scale neighbors，其中 $ d > 1 $）。这些层级关系构成了一个从局部到全局的多尺度邻域结构。\n",
      "\n",
      "2. **结构化连接模式**：拓扑不仅表示“谁连着谁”，还隐含了连接的层次性、密度、路径长度等结构性特征。例如，随机游走（RwR, Random Walk with Restart）被用于探索这些多尺度邻居，说明拓扑是动态可扩展的，而非静态的邻接矩阵。\n",
      "\n",
      "3. **嵌入建模的基础**：在图神经网络或表示学习中，拓扑结构是生成节点嵌入（embedding）的核心依据。通过捕获不同尺度的邻居拓扑，模型可以更全面地理解节点在全局网络中的角色和语义位置。\n",
      "\n",
      "因此，在本研究背景下，“拓扑”不是几何或空间意义上的形状，而是**图数据中节点间依赖与传播关系的抽象结构模型**，是实现自适应多尺度表征学习的关键输入。\n",
      "```\n"
     ]
    }
   ],
   "source": [
    "doc = process_retrieved_docs(\"what is topology?\")\n",
    "\n",
    "if \"source\" in doc[0].metadata:\n",
    "    print(f\"检索到图片，路径: {doc[0].metadata['source']}\")\n",
    "    img_description = doc[0].page_content\n",
    "    context = \"No text retrieved.\"\n",
    "else:\n",
    "    print(\"检索到文本\")\n",
    "    img_description = \"No image retrieved.\"\n",
    "    context = doc[0].page_content\n",
    "\n",
    "response = client.chat.completions.create(\n",
    "    model=\"qwen3-next-80b-a3b-instruct\",\n",
    "    messages=[\n",
    "    \t{\n",
    "    \t    \"role\": \"system\",\n",
    "            \"content\": [{\"type\":\"text\",\"text\": \"You are a helpful assistant.\"}]},\n",
    "        {\n",
    "            \"role\": \"user\",\n",
    "            \"content\": [\n",
    "                {\"type\": \"text\", \"text\": prompt_img_init.format(\n",
    "                    image=img_description,\n",
    "                    context=context,\n",
    "                    question=\"what is topology?\"\n",
    "                )},\n",
    "            ],\n",
    "        }\n",
    "    ],\n",
    ")\n",
    "\n",
    "print(response.choices[0].message.content)"
   ]
  }
 ],
 "metadata": {
  "kernelspec": {
   "display_name": "use-pytorch",
   "language": "python",
   "name": "python3"
  },
  "language_info": {
   "codemirror_mode": {
    "name": "ipython",
    "version": 3
   },
   "file_extension": ".py",
   "mimetype": "text/x-python",
   "name": "python",
   "nbconvert_exporter": "python",
   "pygments_lexer": "ipython3",
   "version": "3.11.9"
  }
 },
 "nbformat": 4,
 "nbformat_minor": 5
}
