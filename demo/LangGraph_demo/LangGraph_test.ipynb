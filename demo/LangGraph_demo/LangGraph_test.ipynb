{
 "cells": [
  {
   "cell_type": "code",
   "execution_count": 18,
   "id": "d3fbce90",
   "metadata": {},
   "outputs": [],
   "source": [
    "from typing import Literal\n",
    "from langchain_core.messages import AIMessage, HumanMessage, SystemMessage\n",
    "from langchain_core.tools import tool\n",
    "from langchain_openai import ChatOpenAI\n",
    "\n",
    "from langgraph.checkpoint.memory import MemorySaver # 持久化状态\n",
    "from langgraph.graph import END, StateGraph, MessagesState # 状态图\n",
    "from langgraph.prebuilt import ToolNode # 工具节点\n",
    "import os"
   ]
  },
  {
   "cell_type": "code",
   "execution_count": 19,
   "id": "44e4b19b",
   "metadata": {},
   "outputs": [
    {
     "data": {
      "text/plain": [
       "True"
      ]
     },
     "execution_count": 19,
     "metadata": {},
     "output_type": "execute_result"
    }
   ],
   "source": [
    "from dotenv import load_dotenv\n",
    "load_dotenv(dotenv_path=\".env\")"
   ]
  },
  {
   "cell_type": "code",
   "execution_count": 32,
   "id": "9eddc0ed",
   "metadata": {},
   "outputs": [],
   "source": [
    "# 模拟一个天气查询工具\n",
    "@tool # 将函数注册为LangGraph工具对象，否则无法被识别\n",
    "def weather_search(query: str) -> str:\n",
    "    '''天气查询工具'''\n",
    "    if \"广东\" in query.lower() or \"guangdong\" in query.lower():\n",
    "        return \"现在广东的天气是多云，气温22度，湿度78%。\"\n",
    "    return \"对不起，我无法获取该地区的天气信息。\""
   ]
  },
  {
   "cell_type": "code",
   "execution_count": 33,
   "id": "3c19b4e6",
   "metadata": {},
   "outputs": [],
   "source": [
    "# 工具放入工具列表\n",
    "tools = [weather_search]\n",
    "\n",
    "# 创建工具结点\n",
    "tool_node = ToolNode(tools)\n",
    "\n",
    "# 初始划模型和工具\n",
    "llm = ChatOpenAI(\n",
    "    model=\"qwen3-next-80b-a3b-instruct\",\n",
    "    openai_api_key=os.getenv(\"QWEN_API_KEY\"),\n",
    "    openai_api_base=\"https://dashscope.aliyuncs.com/compatible-mode/v1\",\n",
    "    temperature=0.1\n",
    ").bind_tools(tools) # LangGraph会让prompt里包含工具描述"
   ]
  },
  {
   "cell_type": "code",
   "execution_count": 22,
   "id": "f44a78ef",
   "metadata": {},
   "outputs": [],
   "source": [
    "# 决定是否继续执行\n",
    "def should_continue(state: MessagesState) -> Literal[\"tools\", END]:\n",
    "    '''判断是否继续对话'''\n",
    "    messages = state['messages']\n",
    "    last_message = messages[-1] if messages else None\n",
    "    # 如果最后一条消息是AI消息且包含工具调用，则继续使用工具\n",
    "    if last_message.tool_calls:\n",
    "        return \"tools\" # 路由到工具节点\n",
    "    # 否则结束对话\n",
    "    return END"
   ]
  },
  {
   "cell_type": "code",
   "execution_count": 23,
   "id": "59e97af0",
   "metadata": {},
   "outputs": [],
   "source": [
    "def call_model(state: MessagesState):\n",
    "    '''调用模型'''\n",
    "    messages = state['messages']\n",
    "    response = llm.invoke(messages)\n",
    "    # 返回列表\n",
    "    return {'messages': [response]}"
   ]
  },
  {
   "cell_type": "code",
   "execution_count": 28,
   "id": "4467afee",
   "metadata": {},
   "outputs": [],
   "source": [
    "# 定义状态图\n",
    "workflow = StateGraph(MessagesState)\n",
    "# 添加图结点\n",
    "workflow.add_node(\"agent\", call_model)\n",
    "workflow.add_node(\"tools\", tool_node)\n",
    "\n",
    "# 定义入口和边\n",
    "workflow.set_entry_point(\"agent\")\n",
    "\n",
    "# 添加条件边\n",
    "workflow.add_conditional_edges(\n",
    "    \"agent\",\n",
    "    should_continue\n",
    ")\n",
    "\n",
    "# 添加tools到agent的普通边\n",
    "workflow.add_edge(\"tools\", \"agent\")\n",
    "\n",
    "# 初始化内存以在图运行期间保存状态\n",
    "checkpointer = MemorySaver() # 可以存储到内存、文件、数据库等\n",
    "\n",
    "# 编译图\n",
    "# 这将编译成一个LangChain可运行对象，预检查\n",
    "app = workflow.compile(checkpointer=checkpointer)"
   ]
  },
  {
   "cell_type": "code",
   "execution_count": null,
   "id": "1cce84d7",
   "metadata": {},
   "outputs": [
    {
     "name": "stdout",
     "output_type": "stream",
     "text": [
      "广东现在的天气是多云，气温22度，湿度为78%。建议适当增减衣物，注意保持舒适。\n"
     ]
    }
   ],
   "source": [
    "# 运行图\n",
    "fina_state = app.invoke(\n",
    "    {\n",
    "        \"messages\": [\n",
    "            HumanMessage(content=\"请帮我查询一下广东的天气怎么样？\")\n",
    "        ]\n",
    "    },\n",
    "    config={\"configurable\":{\"thread_id\": 42}}\n",
    ")\n",
    "\n",
    "# 从最终状态中最后的消息获取结果\n",
    "result = fina_state['messages'][-1].content\n",
    "print(result)"
   ]
  },
  {
   "cell_type": "code",
   "execution_count": 30,
   "id": "ed6b54e8",
   "metadata": {},
   "outputs": [
    {
     "name": "stdout",
     "output_type": "stream",
     "text": [
      "您刚刚问的是广东省的天气。\n"
     ]
    }
   ],
   "source": [
    "fina_state = app.invoke(\n",
    "    {\n",
    "        \"messages\": [\n",
    "            HumanMessage(content=\"我刚刚问的是哪个省的天气？\")\n",
    "        ]\n",
    "    },\n",
    "    config={\"configurable\":{\"thread_id\": 42}}\n",
    ")\n",
    "\n",
    "result = fina_state['messages'][-1].content\n",
    "print(result)"
   ]
  },
  {
   "cell_type": "code",
   "execution_count": 31,
   "id": "256d531b",
   "metadata": {},
   "outputs": [],
   "source": [
    "graph_png = app.get_graph().draw_mermaid_png()\n",
    "with open(\"langgraph.png\", \"wb\") as f:\n",
    "    f.write(graph_png)"
   ]
  }
 ],
 "metadata": {
  "kernelspec": {
   "display_name": "use-pytorch",
   "language": "python",
   "name": "python3"
  },
  "language_info": {
   "codemirror_mode": {
    "name": "ipython",
    "version": 3
   },
   "file_extension": ".py",
   "mimetype": "text/x-python",
   "name": "python",
   "nbconvert_exporter": "python",
   "pygments_lexer": "ipython3",
   "version": "3.11.9"
  }
 },
 "nbformat": 4,
 "nbformat_minor": 5
}
