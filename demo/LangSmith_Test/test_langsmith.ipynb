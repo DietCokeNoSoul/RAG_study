{
 "cells": [
  {
   "cell_type": "code",
   "execution_count": 2,
   "id": "468fd3e4",
   "metadata": {},
   "outputs": [],
   "source": [
    "from dotenv import load_dotenv\n",
    "import os\n",
    "load_dotenv(dotenv_path=\".env\", override=True)\n",
    "\n",
    "qwen_key = os.getenv('QWEN_API_KEY')"
   ]
  },
  {
   "cell_type": "code",
   "execution_count": 3,
   "id": "cbdf3f94",
   "metadata": {},
   "outputs": [],
   "source": [
    "from langchain_tavily import TavilySearch\n",
    "\n",
    "# 注意：新版本中类名是 TavilySearch，不是 TavilySearchResults\n",
    "web_search_tool = TavilySearch(max_results=3)"
   ]
  },
  {
   "cell_type": "code",
   "execution_count": 6,
   "id": "0f7c99be",
   "metadata": {},
   "outputs": [
    {
     "name": "stdout",
     "output_type": "stream",
     "text": [
      "✅ LangSmith 客户端连接成功\n",
      "✅ 使用本地 PromptTemplate\n",
      "提示词模板类型: <class 'langchain_core.prompts.prompt.PromptTemplate'>\n",
      "输入变量: ['context', 'question']\n"
     ]
    }
   ],
   "source": [
    "# from langchain.prompts import PromptTemplate\n",
    "\n",
    "# prompts = PromptTemplate(\n",
    "#     input_variables=[\"question\", \"context\"],\n",
    "#     template=\"\"\"\n",
    "#     You are a helpful assistant. Answer the question based on the context provided.\n",
    "#     Context: {context}\n",
    "#     Question: {question}\n",
    "#     Answer:\n",
    "#     \"\"\",\n",
    "# )\n",
    "\n",
    "from langsmith import Client\n",
    "client = Client(api_key=os.getenv('LANGSMITH_API_KEY'))\n",
    "prompts = client.pull_prompt(\"test_langsmith:3b614a77\", include_model=False)"
   ]
  },
  {
   "cell_type": "code",
   "execution_count": 11,
   "id": "b6e161b3",
   "metadata": {},
   "outputs": [],
   "source": [
    "from openai import OpenAI\n",
    "from langsmith import traceable\n",
    "from langsmith.wrappers import wrap_openai\n",
    "from langchain_openai import ChatOpenAI\n",
    "from langchain_core.messages import HumanMessage, SystemMessage\n",
    "\n",
    "# 配置 ChatOpenAI（在函数外配置，避免重复创建）\n",
    "llm = ChatOpenAI(\n",
    "    model=\"qwen3-next-80b-a3b-instruct\",\n",
    "    openai_api_key=qwen_key,\n",
    "    openai_api_base=\"https://dashscope.aliyuncs.com/compatible-mode/v1\",\n",
    "    temperature=0.1\n",
    ")\n",
    "\n",
    "@traceable\n",
    "def search(question):\n",
    "    # 调用 Tavily 搜索工具\n",
    "    web_docs = web_search_tool.invoke({\"query\": question})\n",
    "    # 提取所有结果的 content 内容\n",
    "    web_results = \"\\n\".join([result['content'] for result in web_docs['results']])\n",
    "    return web_results\n",
    "\n",
    "@traceable\n",
    "def explain(question, context):\n",
    "    # 格式化提示词\n",
    "    formatted = prompts.format(question=question, context=context)\n",
    "    \n",
    "    # 创建消息列表\n",
    "    messages = [\n",
    "        SystemMessage(content=formatted),\n",
    "        HumanMessage(content=question)  # 这里应该是问题，不是格式化后的内容\n",
    "    ]\n",
    "    \n",
    "    # 调用 ChatOpenAI\n",
    "    response = llm.invoke(messages)\n",
    "    \n",
    "    # 返回响应内容 - 注意：ChatOpenAI 返回的是 AIMessage 对象，需要访问 .content 属性\n",
    "    return response.content\n",
    "\n",
    "@traceable\n",
    "def eli5(question):\n",
    "    context = search(question)\n",
    "    answer = explain(question, context)    \n",
    "    return answer"
   ]
  },
  {
   "cell_type": "code",
   "execution_count": 14,
   "id": "3874f90c",
   "metadata": {},
   "outputs": [
    {
     "name": "stdout",
     "output_type": "stream",
     "text": [
      "美国总统是乔·拜登。\n"
     ]
    }
   ],
   "source": [
    "question = \"Who is the president of the United States?\"\n",
    "print(eli5(question))"
   ]
  },
  {
   "cell_type": "code",
   "execution_count": 13,
   "id": "aab9e9d6",
   "metadata": {},
   "outputs": [
    {
     "name": "stdout",
     "output_type": "stream",
     "text": [
      "View the evaluation results for experiment: 'Test Langsmith experiment-5a1e3f74' at:\n",
      "https://smith.langchain.com/o/7e2dc902-7504-4785-b065-1984ef6e8b18/datasets/93232cc8-2d06-425b-bb99-b3b1b406dcdb/compare?selectedSessions=16721794-4981-4233-904c-ec074170ce23\n",
      "\n",
      "\n"
     ]
    },
    {
     "data": {
      "application/vnd.jupyter.widget-view+json": {
       "model_id": "88fd92b5bde346919b310a47a24f445e",
       "version_major": 2,
       "version_minor": 0
      },
      "text/plain": [
       "0it [00:00, ?it/s]"
      ]
     },
     "metadata": {},
     "output_type": "display_data"
    },
    {
     "data": {
      "text/html": [
       "<div>\n",
       "<style scoped>\n",
       "    .dataframe tbody tr th:only-of-type {\n",
       "        vertical-align: middle;\n",
       "    }\n",
       "\n",
       "    .dataframe tbody tr th {\n",
       "        vertical-align: top;\n",
       "    }\n",
       "\n",
       "    .dataframe thead th {\n",
       "        text-align: right;\n",
       "    }\n",
       "</style>\n",
       "<table border=\"1\" class=\"dataframe\">\n",
       "  <thead>\n",
       "    <tr style=\"text-align: right;\">\n",
       "      <th></th>\n",
       "      <th>inputs.question</th>\n",
       "      <th>outputs.Output</th>\n",
       "      <th>error</th>\n",
       "      <th>reference.output</th>\n",
       "      <th>feedback.exact_concise</th>\n",
       "      <th>execution_time</th>\n",
       "      <th>example_id</th>\n",
       "      <th>id</th>\n",
       "    </tr>\n",
       "  </thead>\n",
       "  <tbody>\n",
       "    <tr>\n",
       "      <th>0</th>\n",
       "      <td>Who is the president of the United States Now?</td>\n",
       "      <td>唐纳德·约翰·特朗普</td>\n",
       "      <td>None</td>\n",
       "      <td>唐纳德·约翰·特朗普</td>\n",
       "      <td>True</td>\n",
       "      <td>2.862185</td>\n",
       "      <td>f49ec683-37c1-4293-ab13-8e71d8688fe4</td>\n",
       "      <td>1a68a8a1-5d9a-403c-ba58-9141bce4e145</td>\n",
       "    </tr>\n",
       "    <tr>\n",
       "      <th>1</th>\n",
       "      <td>Who is the president of the United States？</td>\n",
       "      <td>美国总统是乔·拜登。</td>\n",
       "      <td>None</td>\n",
       "      <td>唐纳德·约翰·特朗普</td>\n",
       "      <td>True</td>\n",
       "      <td>3.952093</td>\n",
       "      <td>bc91a9f5-6b11-4952-a94a-7bc03b7fdc83</td>\n",
       "      <td>da5cf27a-f691-4811-9e7d-14d80bea4347</td>\n",
       "    </tr>\n",
       "  </tbody>\n",
       "</table>\n",
       "</div>"
      ],
      "text/plain": [
       "<ExperimentResults Test Langsmith experiment-5a1e3f74>"
      ]
     },
     "execution_count": 13,
     "metadata": {},
     "output_type": "execute_result"
    }
   ],
   "source": [
    "from langsmith import evaluate, Client\n",
    "\n",
    "client = Client()\n",
    "dataset_name = \"Test Langsmith\"\n",
    "\n",
    "# 是否简洁且不超过50个单词\n",
    "def exact_concise(outputs: dict) -> bool:\n",
    "    words = outputs[\"Output\"].split()\n",
    "    return len(words) <= 50\n",
    "\n",
    "# 将测试集在eli5函数上运行\n",
    "def run(input: dict) -> dict:\n",
    "    question = input[\"question\"]\n",
    "    answer = eli5(question)\n",
    "    return {\"Output\": answer}\n",
    "\n",
    "evaluate(\n",
    "    run,\n",
    "    data=dataset_name,\n",
    "    evaluators=[exact_concise],\n",
    "    experiment_prefix=\"Test Langsmith experiment\"\n",
    ")"
   ]
  }
 ],
 "metadata": {
  "kernelspec": {
   "display_name": "use-pytorch",
   "language": "python",
   "name": "python3"
  },
  "language_info": {
   "codemirror_mode": {
    "name": "ipython",
    "version": 3
   },
   "file_extension": ".py",
   "mimetype": "text/x-python",
   "name": "python",
   "nbconvert_exporter": "python",
   "pygments_lexer": "ipython3",
   "version": "3.11.9"
  }
 },
 "nbformat": 4,
 "nbformat_minor": 5
}
